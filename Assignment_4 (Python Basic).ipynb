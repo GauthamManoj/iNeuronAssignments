{
 "cells": [
  {
   "cell_type": "markdown",
   "id": "7b6c33c7",
   "metadata": {},
   "source": [
    "# ASSIGNMENT-4 (Python Basic)\n",
    "***"
   ]
  },
  {
   "cell_type": "markdown",
   "id": "f95133d2",
   "metadata": {},
   "source": [
    "**1. What exactly is []?**"
   ]
  },
  {
   "cell_type": "markdown",
   "id": "83fde1d2",
   "metadata": {},
   "source": [
    "ANSWER:\n",
    "\n",
    "[] is/represents list items."
   ]
  },
  {
   "cell_type": "markdown",
   "id": "9379c076",
   "metadata": {},
   "source": [
    "**2. In a list of values stored in a variable called spam, how would you assign the value 'hello' as the third value? (Assume [2, 4, 6, 8, 10] are in spam.)**"
   ]
  },
  {
   "cell_type": "markdown",
   "id": "79538020",
   "metadata": {},
   "source": [
    "ANSWER:\n",
    "\n",
    "spam[2] = 'hello'"
   ]
  },
  {
   "cell_type": "markdown",
   "id": "ab4e7738",
   "metadata": {},
   "source": [
    "**Let's pretend the spam includes the list ['a', 'b', 'c', 'd'] for the next three queries.**"
   ]
  },
  {
   "cell_type": "markdown",
   "id": "f5f2154d",
   "metadata": {},
   "source": [
    "**3. What is the value of spam[int(int('3' * 2) / 11)]?**"
   ]
  },
  {
   "cell_type": "code",
   "execution_count": 1,
   "id": "4a82f003",
   "metadata": {},
   "outputs": [
    {
     "data": {
      "text/plain": [
       "'d'"
      ]
     },
     "execution_count": 1,
     "metadata": {},
     "output_type": "execute_result"
    }
   ],
   "source": [
    "# ANSWER:\n",
    "\n",
    "spam = ['a', 'b', 'c', 'd']\n",
    "spam[int(int('3'*2) / 11)]"
   ]
  },
  {
   "cell_type": "markdown",
   "id": "855f4744",
   "metadata": {},
   "source": [
    "**4. What is the value of spam[-1]?**"
   ]
  },
  {
   "cell_type": "markdown",
   "id": "8b2c7b96",
   "metadata": {},
   "source": [
    "ANSWER\n",
    "\n",
    "'d'"
   ]
  },
  {
   "cell_type": "markdown",
   "id": "64a1522d",
   "metadata": {},
   "source": [
    "**5. What is the value of spam[:2]?**"
   ]
  },
  {
   "cell_type": "markdown",
   "id": "e7d3a185",
   "metadata": {},
   "source": [
    "ANSWER\n",
    "\n",
    "'c'"
   ]
  },
  {
   "cell_type": "markdown",
   "id": "8ffac1ed",
   "metadata": {},
   "source": [
    "**Let's pretend bacon has the list [3.14, 'cat,' 11, 'cat,' True] for the next three questions.**"
   ]
  },
  {
   "cell_type": "markdown",
   "id": "c60190e7",
   "metadata": {},
   "source": [
    "**6. What is the value of bacon.index('cat')?**"
   ]
  },
  {
   "cell_type": "markdown",
   "id": "fbdebeaf",
   "metadata": {},
   "source": [
    "ANSWER:\n",
    "\n",
    "1"
   ]
  },
  {
   "cell_type": "markdown",
   "id": "e9b64081",
   "metadata": {},
   "source": [
    "**7. How does bacon.append(99) change the look of the list value in bacon?**"
   ]
  },
  {
   "cell_type": "code",
   "execution_count": 2,
   "id": "d115d935",
   "metadata": {},
   "outputs": [
    {
     "data": {
      "text/plain": [
       "[3.14, 'cat', '11', 'cat', True, 99]"
      ]
     },
     "execution_count": 2,
     "metadata": {},
     "output_type": "execute_result"
    }
   ],
   "source": [
    "# ANSWER:\n",
    "\n",
    "bacon = [3.14, 'cat', '11', 'cat', True]\n",
    "bacon.append(99)\n",
    "bacon"
   ]
  },
  {
   "cell_type": "markdown",
   "id": "dc030a8a",
   "metadata": {},
   "source": [
    "**8. How does bacon.remove('cat') change the look of the list in bacon?**"
   ]
  },
  {
   "cell_type": "code",
   "execution_count": 3,
   "id": "6051fec7",
   "metadata": {},
   "outputs": [
    {
     "data": {
      "text/plain": [
       "[3.14, '11', 'cat', True, 99]"
      ]
     },
     "execution_count": 3,
     "metadata": {},
     "output_type": "execute_result"
    }
   ],
   "source": [
    "# ANSWER:\n",
    "\n",
    "bacon.remove('cat')\n",
    "bacon"
   ]
  },
  {
   "cell_type": "markdown",
   "id": "cff9fc84",
   "metadata": {},
   "source": [
    "**9. What are the list concatenation and list replication operators?**"
   ]
  },
  {
   "cell_type": "markdown",
   "id": "d216733f",
   "metadata": {},
   "source": [
    "ANSWER:\n",
    "\n",
    "List Concatenation operator = + <br/>\n",
    "list replication operator = * "
   ]
  },
  {
   "cell_type": "markdown",
   "id": "b2a646ee",
   "metadata": {},
   "source": [
    "**10. What is difference between the list methods append() and insert()?**"
   ]
  },
  {
   "cell_type": "markdown",
   "id": "ff8c57b3",
   "metadata": {},
   "source": [
    "ANSWER:\n",
    "\n",
    "Append method add the passed element to the last index. Using INSERT method, the user can define the index of element."
   ]
  },
  {
   "cell_type": "markdown",
   "id": "fe8cc11c",
   "metadata": {},
   "source": [
    "**11. What are the two methods for removing items from a list?**"
   ]
  },
  {
   "cell_type": "markdown",
   "id": "b08cb3c3",
   "metadata": {},
   "source": [
    "ANSWER:\n",
    "\n",
    "POP <br/>\n",
    "REMOVE"
   ]
  },
  {
   "cell_type": "markdown",
   "id": "637eb1ba",
   "metadata": {},
   "source": [
    "**12. Describe how list values and string values are identical.**"
   ]
  },
  {
   "cell_type": "markdown",
   "id": "87fc5c73",
   "metadata": {},
   "source": [
    "ANSWER:\n",
    "\n",
    "Both are iterables and each element/char inside them are accessible to iterate over. "
   ]
  },
  {
   "cell_type": "markdown",
   "id": "3dda5b66",
   "metadata": {},
   "source": [
    "**13. What's the difference between tuples and lists?**"
   ]
  },
  {
   "cell_type": "markdown",
   "id": "f5debc8d",
   "metadata": {},
   "source": [
    "ANSWER:\n",
    "\n",
    "Lists are mutable datastructures whereas tuples are immutable"
   ]
  },
  {
   "cell_type": "markdown",
   "id": "b7bd5b7c",
   "metadata": {},
   "source": [
    "**14. How do you type a tuple value that only contains the integer 42?**"
   ]
  },
  {
   "cell_type": "markdown",
   "id": "2263c67e",
   "metadata": {},
   "source": [
    "ANSWER:\n",
    "\n",
    "(42)"
   ]
  },
  {
   "cell_type": "markdown",
   "id": "186d0843",
   "metadata": {},
   "source": [
    "**15. How do you get a list value's tuple form? How do you get a tuple value's list form?**"
   ]
  },
  {
   "cell_type": "markdown",
   "id": "ddbed5b1",
   "metadata": {},
   "source": [
    "ANSWER:\n",
    "\n",
    "list((tuple values)) --> to convert tuple to list <br/>\n",
    "tuple([list values]) --> to convert list to tuple"
   ]
  },
  {
   "cell_type": "markdown",
   "id": "cbdb2773",
   "metadata": {},
   "source": [
    "**16. Variables that \"contain\" list values are not necessarily lists themselves. Instead, what do they contain?**"
   ]
  },
  {
   "cell_type": "markdown",
   "id": "bf96dda4",
   "metadata": {},
   "source": [
    "ANSWER:\n",
    "\n",
    "Collection of datatypes/datastructures"
   ]
  },
  {
   "cell_type": "markdown",
   "id": "089f9f35",
   "metadata": {},
   "source": [
    "**17. How do you distinguish between copy.copy() and copy.deepcopy()?**"
   ]
  },
  {
   "cell_type": "markdown",
   "id": "5350cb54",
   "metadata": {},
   "source": [
    "ANSWER:\n",
    "\n",
    "**copy.copy()** is shallow copy. In here, a new object is created but all child items are references. So if one child item is modified, both objects (initial and copy) will change.\n",
    "<br/>\n",
    "**deep.copy()** is deep copy. In here, a new object is created along with child items. Even if child item in one object is modified, the other object stays intact."
   ]
  }
 ],
 "metadata": {
  "kernelspec": {
   "display_name": "Python 3",
   "language": "python",
   "name": "python3"
  },
  "language_info": {
   "codemirror_mode": {
    "name": "ipython",
    "version": 3
   },
   "file_extension": ".py",
   "mimetype": "text/x-python",
   "name": "python",
   "nbconvert_exporter": "python",
   "pygments_lexer": "ipython3",
   "version": "3.8.8"
  }
 },
 "nbformat": 4,
 "nbformat_minor": 5
}
