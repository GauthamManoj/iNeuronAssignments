{
 "cells": [
  {
   "cell_type": "markdown",
   "id": "c87c2a3c",
   "metadata": {},
   "source": [
    "# ASSIGNMENT_1 (Basic Programming)\n",
    "***"
   ]
  },
  {
   "cell_type": "markdown",
   "id": "d0483fca",
   "metadata": {},
   "source": [
    "**1.\tWrite a Python program to print \"Hello Python\"?**"
   ]
  },
  {
   "cell_type": "code",
   "execution_count": 1,
   "id": "7736bb9d",
   "metadata": {},
   "outputs": [
    {
     "name": "stdout",
     "output_type": "stream",
     "text": [
      "Hello Python\n"
     ]
    }
   ],
   "source": [
    "# ANSWER:\n",
    "\n",
    "print(\"Hello Python\")"
   ]
  },
  {
   "cell_type": "markdown",
   "id": "0cb00379",
   "metadata": {},
   "source": [
    "**2.Write a Python program to do arithmetical operations addition and division.?**"
   ]
  },
  {
   "cell_type": "code",
   "execution_count": 2,
   "id": "13a1f54a",
   "metadata": {},
   "outputs": [
    {
     "name": "stdout",
     "output_type": "stream",
     "text": [
      "15 2.0\n"
     ]
    }
   ],
   "source": [
    "# ANSWER:\n",
    "\n",
    "a = 10\n",
    "b = 5\n",
    "\n",
    "add = a+b\n",
    "div = a/b\n",
    "\n",
    "print(add,div)"
   ]
  },
  {
   "cell_type": "markdown",
   "id": "8da89f6d",
   "metadata": {},
   "source": [
    "**3.Write a Python program to find the area of a triangle?**"
   ]
  },
  {
   "cell_type": "code",
   "execution_count": 3,
   "id": "4d8f3e4f",
   "metadata": {},
   "outputs": [
    {
     "name": "stdout",
     "output_type": "stream",
     "text": [
      "2000.0\n"
     ]
    }
   ],
   "source": [
    "# ANSWER:\n",
    "\n",
    "# creating a function to calculate area of triangle\n",
    "def tri_area(b,h):\n",
    "    return (b*(h**2)/2)\n",
    "\n",
    "# calculating area of triangle with base 10 & height 20\n",
    "print(tri_area(10,20))"
   ]
  },
  {
   "cell_type": "markdown",
   "id": "da527482",
   "metadata": {},
   "source": [
    "**4.Write a Python program to swap two variables?**"
   ]
  },
  {
   "cell_type": "code",
   "execution_count": 4,
   "id": "02d4ac40",
   "metadata": {},
   "outputs": [
    {
     "data": {
      "text/plain": [
       "(5, 10)"
      ]
     },
     "execution_count": 4,
     "metadata": {},
     "output_type": "execute_result"
    }
   ],
   "source": [
    "# ANSWER:\n",
    "\n",
    "a = 10\n",
    "b = 5\n",
    "\n",
    "# creating a function to swap the variables\n",
    "\n",
    "def swap(x,y):\n",
    "    temp = x\n",
    "    x=y\n",
    "    y=temp\n",
    "    return(x,y)\n",
    "\n",
    "# swapping\n",
    "swap(a,b)"
   ]
  },
  {
   "cell_type": "markdown",
   "id": "6f5a4138",
   "metadata": {},
   "source": [
    "**5.Write a Python program to generate a random number?**"
   ]
  },
  {
   "cell_type": "code",
   "execution_count": 5,
   "id": "670b81ce",
   "metadata": {},
   "outputs": [
    {
     "name": "stdout",
     "output_type": "stream",
     "text": [
      "41\n"
     ]
    }
   ],
   "source": [
    "import random\n",
    "print(random.randint(0,100))"
   ]
  }
 ],
 "metadata": {
  "kernelspec": {
   "display_name": "Python 3",
   "language": "python",
   "name": "python3"
  },
  "language_info": {
   "codemirror_mode": {
    "name": "ipython",
    "version": 3
   },
   "file_extension": ".py",
   "mimetype": "text/x-python",
   "name": "python",
   "nbconvert_exporter": "python",
   "pygments_lexer": "ipython3",
   "version": "3.8.8"
  }
 },
 "nbformat": 4,
 "nbformat_minor": 5
}
