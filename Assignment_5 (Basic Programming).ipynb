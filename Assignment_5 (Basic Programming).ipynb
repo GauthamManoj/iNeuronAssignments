{
 "cells": [
  {
   "cell_type": "markdown",
   "id": "58997743",
   "metadata": {},
   "source": [
    "# ASSIGNMENT_5 (Basic Programming)\n",
    "***"
   ]
  },
  {
   "cell_type": "markdown",
   "id": "066c317e",
   "metadata": {},
   "source": [
    "**1.Write a Python Program to Find LCM?**"
   ]
  },
  {
   "cell_type": "code",
   "execution_count": 5,
   "id": "2c133e14",
   "metadata": {},
   "outputs": [
    {
     "data": {
      "text/plain": [
       "170"
      ]
     },
     "execution_count": 5,
     "metadata": {},
     "output_type": "execute_result"
    }
   ],
   "source": [
    "# ANSWER:\n",
    "\n",
    "def lcm(num1,num2):\n",
    "    if num1>num2:\n",
    "        large = num1 \n",
    "    else:\n",
    "        large = num2\n",
    "    while(True):\n",
    "        if large%num1 == 0 and large%num2 == 0:\n",
    "            lcm = large\n",
    "            break\n",
    "        else:\n",
    "            large +=1\n",
    "    return lcm\n",
    "\n",
    "lcm(10,34)"
   ]
  },
  {
   "cell_type": "markdown",
   "id": "660618d1",
   "metadata": {},
   "source": [
    "**2.Write a Python Program to Find HCF?**"
   ]
  },
  {
   "cell_type": "code",
   "execution_count": 8,
   "id": "223f2d88",
   "metadata": {},
   "outputs": [
    {
     "data": {
      "text/plain": [
       "5"
      ]
     },
     "execution_count": 8,
     "metadata": {},
     "output_type": "execute_result"
    }
   ],
   "source": [
    "# ANSWER:\n",
    "\n",
    "def hcf(num1,num2):\n",
    "    if num1<num2:\n",
    "        small = num1\n",
    "    else:\n",
    "        small = num2\n",
    "    for i in range(1,small+1):\n",
    "        if num1%i == 0 and num2%i == 0:\n",
    "            hcf = i\n",
    "    return hcf\n",
    "\n",
    "hcf(10,25)"
   ]
  },
  {
   "cell_type": "markdown",
   "id": "dc76c4f7",
   "metadata": {},
   "source": [
    "**3.Write a Python Program to Convert Decimal to Binary, Octal and Hexadecimal?**"
   ]
  },
  {
   "cell_type": "code",
   "execution_count": 15,
   "id": "342be356",
   "metadata": {},
   "outputs": [
    {
     "name": "stdout",
     "output_type": "stream",
     "text": [
      "10\n",
      "Number in binary 0b1010\n",
      "\n",
      "Number in Octal 0o12\n",
      "\n",
      "Number in Hexadecimal 0xa\n",
      "\n"
     ]
    }
   ],
   "source": [
    "# ANSWER\n",
    "\n",
    "number= int(input())\n",
    "\n",
    "print(f\"Number in binary {bin(number)}\\n\")\n",
    "\n",
    "print(f\"Number in Octal {oct(number)}\\n\")\n",
    "\n",
    "print(f\"Number in Hexadecimal {hex(number)}\\n\")\n"
   ]
  },
  {
   "cell_type": "markdown",
   "id": "9bc8fc7f",
   "metadata": {},
   "source": [
    "**4.Write a Python Program To Find ASCII value of a character?**"
   ]
  },
  {
   "cell_type": "code",
   "execution_count": 21,
   "id": "c8636c35",
   "metadata": {},
   "outputs": [
    {
     "name": "stdout",
     "output_type": "stream",
     "text": [
      "a\n",
      "ASCII value of character is 97\n"
     ]
    }
   ],
   "source": [
    "# ANSWER:\n",
    "\n",
    "# enter a character/string\n",
    "char = str(input())\n",
    "\n",
    "print(f\"ASCII value of character is {ord(char)}\")"
   ]
  },
  {
   "cell_type": "markdown",
   "id": "02a66460",
   "metadata": {},
   "source": [
    "**5.Write a Python Program to Make a Simple Calculator with 4 basic mathematical operations?**"
   ]
  },
  {
   "cell_type": "code",
   "execution_count": 34,
   "id": "47f2fd7a",
   "metadata": {},
   "outputs": [
    {
     "name": "stdout",
     "output_type": "stream",
     "text": [
      "Addition\n"
     ]
    },
    {
     "data": {
      "application/vnd.jupyter.widget-view+json": {
       "model_id": "e467d5a83c184325969cfc08d9fa1059",
       "version_major": 2,
       "version_minor": 0
      },
      "text/plain": [
       "interactive(children=(IntSlider(value=10, description='x', max=30, min=-10), IntSlider(value=10, description='…"
      ]
     },
     "metadata": {},
     "output_type": "display_data"
    },
    {
     "name": "stdout",
     "output_type": "stream",
     "text": [
      "Subtraction\n"
     ]
    },
    {
     "data": {
      "application/vnd.jupyter.widget-view+json": {
       "model_id": "7045fbd5952e48d1a9292ca4df2c90f9",
       "version_major": 2,
       "version_minor": 0
      },
      "text/plain": [
       "interactive(children=(IntSlider(value=10, description='x', max=30, min=-10), IntSlider(value=10, description='…"
      ]
     },
     "metadata": {},
     "output_type": "display_data"
    },
    {
     "name": "stdout",
     "output_type": "stream",
     "text": [
      "Multiplication\n"
     ]
    },
    {
     "data": {
      "application/vnd.jupyter.widget-view+json": {
       "model_id": "5ee60cc9dcef45e8818ccadb7be11b66",
       "version_major": 2,
       "version_minor": 0
      },
      "text/plain": [
       "interactive(children=(IntSlider(value=10, description='x', max=30, min=-10), IntSlider(value=10, description='…"
      ]
     },
     "metadata": {},
     "output_type": "display_data"
    },
    {
     "name": "stdout",
     "output_type": "stream",
     "text": [
      "Division\n"
     ]
    },
    {
     "data": {
      "application/vnd.jupyter.widget-view+json": {
       "model_id": "c1b8c847afaf41baaef96e173d123a98",
       "version_major": 2,
       "version_minor": 0
      },
      "text/plain": [
       "interactive(children=(IntSlider(value=10, description='x', max=30, min=-10), IntSlider(value=10, description='…"
      ]
     },
     "metadata": {},
     "output_type": "display_data"
    }
   ],
   "source": [
    "# ANSWER\n",
    "\n",
    "from __future__ import print_function\n",
    "from ipywidgets import interact, interactive, fixed, interact_manual\n",
    "import ipywidgets as widgets\n",
    "\n",
    "print('Addition')\n",
    "def add(x,y):\n",
    "\n",
    "    return int(x)+int(y)\n",
    "\n",
    "interact(add, x = 10 , y = 10);\n",
    "\n",
    "print('Subtraction')\n",
    "def sub(x,y):\n",
    "\n",
    "    return int(x)-int(y)\n",
    "\n",
    "interact(sub, x = 10 , y = 10);\n",
    "\n",
    "print('Multiplication')\n",
    "def mul(x,y):\n",
    "\n",
    "    return int(x)*int(y)\n",
    "\n",
    "interact(mul, x = 10 , y = 10);\n",
    "\n",
    "print('Division')\n",
    "def div(x,y):\n",
    "\n",
    "    return int(x)/int(y)\n",
    "\n",
    "interact(div, x = 10 , y = 10);"
   ]
  }
 ],
 "metadata": {
  "kernelspec": {
   "display_name": "Python 3",
   "language": "python",
   "name": "python3"
  },
  "language_info": {
   "codemirror_mode": {
    "name": "ipython",
    "version": 3
   },
   "file_extension": ".py",
   "mimetype": "text/x-python",
   "name": "python",
   "nbconvert_exporter": "python",
   "pygments_lexer": "ipython3",
   "version": "3.8.8"
  }
 },
 "nbformat": 4,
 "nbformat_minor": 5
}
