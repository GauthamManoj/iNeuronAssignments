{
 "cells": [
  {
   "cell_type": "markdown",
   "id": "4b8693e5",
   "metadata": {},
   "source": [
    "# ASSIGNMENT-3 (Python Basic)\n",
    "***"
   ]
  },
  {
   "cell_type": "markdown",
   "id": "23ec8afc",
   "metadata": {},
   "source": [
    "**1. Why are functions advantageous to have in your programs?**"
   ]
  },
  {
   "cell_type": "markdown",
   "id": "025ff698",
   "metadata": {},
   "source": [
    "ANSWER:\n",
    "\n",
    "Functions contain codeblock/s which can be called multiple times. This reduces duplicate code/redundancy. This also makes code smaller."
   ]
  },
  {
   "cell_type": "markdown",
   "id": "00118049",
   "metadata": {},
   "source": [
    "**2. When does the code in a function run: when it's specified or when it's called?**"
   ]
  },
  {
   "cell_type": "markdown",
   "id": "ba139b9a",
   "metadata": {},
   "source": [
    "ANSWER:\n",
    "\n",
    "Code in the function run when the function is called."
   ]
  },
  {
   "cell_type": "markdown",
   "id": "1d44974b",
   "metadata": {},
   "source": [
    "**3. What statement creates a function?**"
   ]
  },
  {
   "cell_type": "markdown",
   "id": "d960de40",
   "metadata": {},
   "source": [
    "ANSWER:\n",
    "\n",
    "**def** (defenition statement)"
   ]
  },
  {
   "cell_type": "markdown",
   "id": "d37256ac",
   "metadata": {},
   "source": [
    "**4. What is the difference between a function and a function call?**"
   ]
  },
  {
   "cell_type": "markdown",
   "id": "d7c70c33",
   "metadata": {},
   "source": [
    "ANSWER:\n",
    "    \n",
    "Function is a code written to use a partical operation/task multiple times. Invoking this function to do this particular task is calling the function.    "
   ]
  },
  {
   "cell_type": "markdown",
   "id": "5513b80d",
   "metadata": {},
   "source": [
    "**5. How many global scopes are there in a Python program? How many local scopes?**"
   ]
  },
  {
   "cell_type": "markdown",
   "id": "5602942c",
   "metadata": {},
   "source": [
    "ANSWER:\n",
    "\n",
    "There is one global scope for each module where the global variables are stores.  The local scopes depend on the number of functions defined in a module."
   ]
  },
  {
   "cell_type": "markdown",
   "id": "e4952905",
   "metadata": {},
   "source": [
    "**6. What happens to variables in a local scope when the function call returns?**"
   ]
  },
  {
   "cell_type": "markdown",
   "id": "b68fea33",
   "metadata": {},
   "source": [
    "ANSWER:\n",
    "\n",
    "The local variables in the local scope are deleted/removed from memory once the function finishes running. "
   ]
  },
  {
   "cell_type": "markdown",
   "id": "9301c97c",
   "metadata": {},
   "source": [
    "**7. What is the concept of a return value? Is it possible to have a return value in an expression?**"
   ]
  },
  {
   "cell_type": "markdown",
   "id": "6024c833",
   "metadata": {},
   "source": [
    "ANSWER:\n",
    "\n",
    "Return value returns a result once the function is called and finished running. Return cannot be used outisde a function."
   ]
  },
  {
   "cell_type": "markdown",
   "id": "c0d559fb",
   "metadata": {},
   "source": [
    "**8. If a function does not have a return statement, what is the return value of a call to that function?**"
   ]
  },
  {
   "cell_type": "markdown",
   "id": "9571ec80",
   "metadata": {},
   "source": [
    "ANSWER:\n",
    "\n",
    "If there's no return value, the function returns **None** as output upon calling the function."
   ]
  },
  {
   "cell_type": "markdown",
   "id": "9066f41f",
   "metadata": {},
   "source": [
    "**9. How do you make a function variable refer to the global variable?**"
   ]
  },
  {
   "cell_type": "markdown",
   "id": "c889a79a",
   "metadata": {},
   "source": [
    "ANSWER:\n",
    "\n",
    "Using *global* function to declare global variables inside function. Without the defenition, all variables by default will be considered as local variables. Inside a function."
   ]
  },
  {
   "cell_type": "markdown",
   "id": "4c330dd9",
   "metadata": {},
   "source": [
    "**10. What is the data type of None?**"
   ]
  },
  {
   "cell_type": "markdown",
   "id": "46dffd9e",
   "metadata": {},
   "source": [
    "ANSWER:\n",
    "\n",
    "NoneType"
   ]
  },
  {
   "cell_type": "markdown",
   "id": "10ed1bb3",
   "metadata": {},
   "source": [
    "**11. What does the sentence import areallyourpetsnamederic do?**"
   ]
  },
  {
   "cell_type": "markdown",
   "id": "1f769ecf",
   "metadata": {},
   "source": [
    "ANSWER:"
   ]
  },
  {
   "cell_type": "markdown",
   "id": "31be809c",
   "metadata": {},
   "source": [
    "ANSWER:\n",
    "\n",
    "Import a module/library called 'areallyourpetsnamederic'"
   ]
  },
  {
   "cell_type": "markdown",
   "id": "38890240",
   "metadata": {},
   "source": [
    "**12. If you had a bacon() feature in a spam module, what would you call it after importing spam?**"
   ]
  },
  {
   "cell_type": "markdown",
   "id": "758d1eba",
   "metadata": {},
   "source": [
    "ANSWER:\n",
    "\n",
    "spam.bacon()"
   ]
  },
  {
   "cell_type": "markdown",
   "id": "7d343306",
   "metadata": {},
   "source": [
    "**13. What can you do to save a programme from crashing if it encounters an error?**"
   ]
  },
  {
   "cell_type": "markdown",
   "id": "046fcef1",
   "metadata": {},
   "source": [
    "ANSWER:\n",
    "\n",
    "Exception handling to avoid the program crashing. (Use a try-catch/try-except block)"
   ]
  },
  {
   "cell_type": "markdown",
   "id": "7553008a",
   "metadata": {},
   "source": [
    "**14. What is the purpose of the try clause? What is the purpose of the except clause?**"
   ]
  },
  {
   "cell_type": "markdown",
   "id": "81e2eeab",
   "metadata": {},
   "source": [
    "ANSWER:\n",
    "\n",
    "**TRY** Clause run the codeblock inside it first and when it faces an error based on the error heirarchy, it enters the except block and run the alternate codeblock. By this, we can avoid the error crashing the program."
   ]
  }
 ],
 "metadata": {
  "kernelspec": {
   "display_name": "Python 3",
   "language": "python",
   "name": "python3"
  },
  "language_info": {
   "codemirror_mode": {
    "name": "ipython",
    "version": 3
   },
   "file_extension": ".py",
   "mimetype": "text/x-python",
   "name": "python",
   "nbconvert_exporter": "python",
   "pygments_lexer": "ipython3",
   "version": "3.8.8"
  }
 },
 "nbformat": 4,
 "nbformat_minor": 5
}
