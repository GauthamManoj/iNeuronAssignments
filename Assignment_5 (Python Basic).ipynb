{
 "cells": [
  {
   "cell_type": "markdown",
   "id": "533b03c7",
   "metadata": {},
   "source": [
    "# ASSIGNMENT-5 (Python Basic)\n",
    "***"
   ]
  },
  {
   "cell_type": "markdown",
   "id": "3ec096c5",
   "metadata": {},
   "source": [
    "**1. What does an empty dictionary's code look like?**"
   ]
  },
  {
   "cell_type": "markdown",
   "id": "5ac8770a",
   "metadata": {},
   "source": [
    "ANSWER:\n",
    "\n",
    "Empty Dictionary is {}"
   ]
  },
  {
   "cell_type": "markdown",
   "id": "c0fe5b22",
   "metadata": {},
   "source": [
    "**2. What is the value of a dictionary value with the key 'foo' and the value 42?**"
   ]
  },
  {
   "cell_type": "code",
   "execution_count": 2,
   "id": "eb198bc7",
   "metadata": {},
   "outputs": [
    {
     "data": {
      "text/plain": [
       "{'foo': 42}"
      ]
     },
     "execution_count": 2,
     "metadata": {},
     "output_type": "execute_result"
    }
   ],
   "source": [
    "# ANSWER:\n",
    "\n",
    "dict = {'foo' : 42}\n",
    "dict"
   ]
  },
  {
   "cell_type": "markdown",
   "id": "55c41a98",
   "metadata": {},
   "source": [
    "**3. What is the most significant distinction between a dictionary and a list?**"
   ]
  },
  {
   "cell_type": "markdown",
   "id": "27aab17a",
   "metadata": {},
   "source": [
    "ANSWER:\n",
    "\n",
    "LIST:\n",
    "   * List indices are integers and list elements are accessed using this integer indices.\n",
    "   * Hence the order of the list element won't change\n",
    "   * The indices values cannot be changed.\n",
    "\n",
    "DICTIONARY:\n",
    "   * Dictionary doesn't have indices. Instead it got keys\n",
    "   * Every value got an unique key. Data represented as Key-Value pair.\n",
    "   * Values are accessed using this keys.\n",
    "   * Since it's keys and not indices, there is no order for elements."
   ]
  },
  {
   "cell_type": "markdown",
   "id": "09c3b023",
   "metadata": {},
   "source": [
    "**4. What happens if you try to access spam['foo'] if spam is {'bar': 100}?**"
   ]
  },
  {
   "cell_type": "code",
   "execution_count": 3,
   "id": "9a1be003",
   "metadata": {
    "scrolled": true
   },
   "outputs": [
    {
     "ename": "KeyError",
     "evalue": "'foo'",
     "output_type": "error",
     "traceback": [
      "\u001b[1;31m---------------------------------------------------------------------------\u001b[0m",
      "\u001b[1;31mKeyError\u001b[0m                                  Traceback (most recent call last)",
      "\u001b[1;32m<ipython-input-3-7b5077f18b87>\u001b[0m in \u001b[0;36m<module>\u001b[1;34m\u001b[0m\n\u001b[0;32m      2\u001b[0m \u001b[1;33m\u001b[0m\u001b[0m\n\u001b[0;32m      3\u001b[0m \u001b[0mspam\u001b[0m \u001b[1;33m=\u001b[0m \u001b[1;33m{\u001b[0m\u001b[1;34m'bar'\u001b[0m\u001b[1;33m:\u001b[0m\u001b[1;36m100\u001b[0m\u001b[1;33m}\u001b[0m\u001b[1;33m\u001b[0m\u001b[1;33m\u001b[0m\u001b[0m\n\u001b[1;32m----> 4\u001b[1;33m \u001b[0mspam\u001b[0m\u001b[1;33m[\u001b[0m\u001b[1;34m'foo'\u001b[0m\u001b[1;33m]\u001b[0m\u001b[1;33m\u001b[0m\u001b[1;33m\u001b[0m\u001b[0m\n\u001b[0m",
      "\u001b[1;31mKeyError\u001b[0m: 'foo'"
     ]
    }
   ],
   "source": [
    "# ANSWER:\n",
    "\n",
    "spam = {'bar':100}\n",
    "spam['foo']"
   ]
  },
  {
   "cell_type": "markdown",
   "id": "60712a1a",
   "metadata": {},
   "source": [
    "There is no key **'foo'** in the dictionary "
   ]
  },
  {
   "cell_type": "markdown",
   "id": "608b294e",
   "metadata": {},
   "source": [
    "**5. If a dictionary is stored in spam, what is the difference between the expressions 'cat' in spam and 'cat' in spam.keys()?**"
   ]
  },
  {
   "cell_type": "code",
   "execution_count": 15,
   "id": "d590b7ab",
   "metadata": {},
   "outputs": [
    {
     "data": {
      "text/plain": [
       "True"
      ]
     },
     "execution_count": 15,
     "metadata": {},
     "output_type": "execute_result"
    }
   ],
   "source": [
    "# ANSWER:\n",
    "\n",
    "spam = {'bar':100, 'cat':200}\n",
    "\n",
    "'cat' in spam"
   ]
  },
  {
   "cell_type": "code",
   "execution_count": 16,
   "id": "82e83243",
   "metadata": {},
   "outputs": [
    {
     "data": {
      "text/plain": [
       "True"
      ]
     },
     "execution_count": 16,
     "metadata": {},
     "output_type": "execute_result"
    }
   ],
   "source": [
    "'cat' in spam.keys()"
   ]
  },
  {
   "cell_type": "markdown",
   "id": "b3879b22",
   "metadata": {},
   "source": [
    "since **CAT** is a key in the spam dictionary both cat in spam and cat in spam.keys() gives same result"
   ]
  },
  {
   "cell_type": "markdown",
   "id": "dc9f953d",
   "metadata": {},
   "source": [
    "**6. If a dictionary is stored in spam, what is the difference between the expressions 'cat' in spam and 'cat' in spam.values()?**"
   ]
  },
  {
   "cell_type": "code",
   "execution_count": 17,
   "id": "3f62d3fb",
   "metadata": {},
   "outputs": [
    {
     "data": {
      "text/plain": [
       "False"
      ]
     },
     "execution_count": 17,
     "metadata": {},
     "output_type": "execute_result"
    }
   ],
   "source": [
    "spam = {1:'bar', 2:'cat'}\n",
    "\n",
    "'cat' in spam"
   ]
  },
  {
   "cell_type": "code",
   "execution_count": 18,
   "id": "3d7b893b",
   "metadata": {
    "scrolled": true
   },
   "outputs": [
    {
     "data": {
      "text/plain": [
       "True"
      ]
     },
     "execution_count": 18,
     "metadata": {},
     "output_type": "execute_result"
    }
   ],
   "source": [
    "'cat' in spam.values()"
   ]
  },
  {
   "cell_type": "markdown",
   "id": "10bcfbd6",
   "metadata": {},
   "source": [
    "Since **CAT** is a value here, cat in spam won't show True and only cat in spam.values() will show true"
   ]
  },
  {
   "cell_type": "markdown",
   "id": "5e4d9446",
   "metadata": {},
   "source": [
    "**7. What is a shortcut for the following code? <br/>\n",
    "if 'color' not in spam:<br/>\n",
    "spam['color'] = 'black'**\n"
   ]
  },
  {
   "cell_type": "code",
   "execution_count": 22,
   "id": "a84cef49",
   "metadata": {},
   "outputs": [
    {
     "data": {
      "text/plain": [
       "{'foo': 42, 'color': 'black'}"
      ]
     },
     "execution_count": 22,
     "metadata": {},
     "output_type": "execute_result"
    }
   ],
   "source": [
    "# ANSWER:\n",
    "\n",
    "spam = {'foo':42}\n",
    "\n",
    "spam.setdefault('color', 'black')\n",
    "spam"
   ]
  },
  {
   "cell_type": "code",
   "execution_count": 26,
   "id": "171270a9",
   "metadata": {},
   "outputs": [
    {
     "data": {
      "text/plain": [
       "{'foo': 42, 'color': 'red'}"
      ]
     },
     "execution_count": 26,
     "metadata": {},
     "output_type": "execute_result"
    }
   ],
   "source": [
    "spam = {'foo':42, 'color':'red'}\n",
    "\n",
    "spam.setdefault('color', 'black')\n",
    "spam"
   ]
  },
  {
   "cell_type": "markdown",
   "id": "ac34d1d2",
   "metadata": {},
   "source": [
    "If 'color' key exist, setdefault won't replace or add that key-value pair. Otherwise it will."
   ]
  },
  {
   "cell_type": "markdown",
   "id": "7fba9776",
   "metadata": {},
   "source": [
    "**8. How do you \"pretty print\" dictionary values using which module and function?**"
   ]
  },
  {
   "cell_type": "code",
   "execution_count": 27,
   "id": "ea5b4c99",
   "metadata": {},
   "outputs": [],
   "source": [
    "# importing module for pretty printing\n",
    "\n",
    "import pprint"
   ]
  },
  {
   "cell_type": "code",
   "execution_count": 28,
   "id": "c0629bd8",
   "metadata": {},
   "outputs": [
    {
     "name": "stdout",
     "output_type": "stream",
     "text": [
      "{'Age': 25, 'Height': 183, 'Hobbies': ['Cooking', 'Coding'], 'Name': 'Gautham'}\n"
     ]
    }
   ],
   "source": [
    "spam ={'Name':'Gautham','Age':25,'Height':183,'Hobbies':['Cooking','Coding']}\n",
    "\n",
    "#pprint function from pprint module for pretty printing\n",
    "\n",
    "pprint.pprint(spam)"
   ]
  },
  {
   "cell_type": "markdown",
   "id": "998de006",
   "metadata": {},
   "source": [
    "***"
   ]
  }
 ],
 "metadata": {
  "kernelspec": {
   "display_name": "Python 3",
   "language": "python",
   "name": "python3"
  },
  "language_info": {
   "codemirror_mode": {
    "name": "ipython",
    "version": 3
   },
   "file_extension": ".py",
   "mimetype": "text/x-python",
   "name": "python",
   "nbconvert_exporter": "python",
   "pygments_lexer": "ipython3",
   "version": "3.8.8"
  }
 },
 "nbformat": 4,
 "nbformat_minor": 5
}
