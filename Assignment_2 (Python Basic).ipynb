{
 "cells": [
  {
   "cell_type": "markdown",
   "id": "3e8f501c",
   "metadata": {},
   "source": [
    "# ASSIGNMENT-2 (Python Basic)\n",
    "***"
   ]
  },
  {
   "cell_type": "markdown",
   "id": "5baa0791",
   "metadata": {},
   "source": [
    "**1.What are the two values of the Boolean data type? How do you write them?**"
   ]
  },
  {
   "cell_type": "markdown",
   "id": "76d9c89b",
   "metadata": {},
   "source": [
    "ANSWER:\n",
    "    \n",
    "There are two types of boolean data - True & False.In binary this is equivalent to 1 (True) & 0 (False)"
   ]
  },
  {
   "cell_type": "markdown",
   "id": "e6a483c2",
   "metadata": {},
   "source": [
    "**2. What are the three different types of Boolean operators?**"
   ]
  },
  {
   "cell_type": "markdown",
   "id": "9eb37356",
   "metadata": {},
   "source": [
    "ANSWER:\n",
    "    \n",
    "The 3 boolean/logical operators are 'AND', 'OR', 'NOT'. These operators (logical) return boolean output **True** or **False**."
   ]
  },
  {
   "cell_type": "markdown",
   "id": "4bbac1bc",
   "metadata": {},
   "source": [
    "**3. Make a list of each Boolean operator's truth tables (i.e. every possible combination of Boolean values for the operator and what it evaluate ).**"
   ]
  },
  {
   "cell_type": "markdown",
   "id": "a9251f69",
   "metadata": {},
   "source": [
    "ANSWER:\n",
    "\n",
    "* AND TABLE\n",
    "        - True AND True = True\n",
    "        - True AND False = False\n",
    "        - False AND True = False\n",
    "        - Flalse AND False = False\n",
    "* OR TABLE\n",
    "        - True OR True = True\n",
    "        - True OR False = True\n",
    "        - False OR True = True\n",
    "        - False OR False = False\n",
    "* NOT TABLE\n",
    "        - NOT True = False\n",
    "        - NOT False = True"
   ]
  },
  {
   "cell_type": "markdown",
   "id": "862e307d",
   "metadata": {},
   "source": [
    "**4. What are the values of the following expressions?**"
   ]
  },
  {
   "cell_type": "markdown",
   "id": "abd90b1b",
   "metadata": {},
   "source": [
    "(5 > 4) and (3 == 5)\n",
    "\n",
    "ANSWER:\n",
    "\n",
    "False"
   ]
  },
  {
   "cell_type": "markdown",
   "id": "51b75cf3",
   "metadata": {},
   "source": [
    "not (5 > 4)\n",
    "\n",
    "ANSWER:\n",
    "\n",
    "False"
   ]
  },
  {
   "cell_type": "markdown",
   "id": "f35752d8",
   "metadata": {},
   "source": [
    "(5 > 4) or (3 == 5)\n",
    "\n",
    "ANSWER:\n",
    "\n",
    "True"
   ]
  },
  {
   "cell_type": "markdown",
   "id": "c6b689fc",
   "metadata": {},
   "source": [
    "not ((5 > 4) or (3 == 5))\n",
    "\n",
    "ANSWER:\n",
    "\n",
    "False"
   ]
  },
  {
   "cell_type": "markdown",
   "id": "01ce01a6",
   "metadata": {},
   "source": [
    "(True and True) and (True == False)\n",
    "\n",
    "ANSWER:\n",
    "\n",
    "False"
   ]
  },
  {
   "cell_type": "markdown",
   "id": "f36186e7",
   "metadata": {},
   "source": [
    "(not False) or (not True)\n",
    "\n",
    "ANSWER:\n",
    "\n",
    "True"
   ]
  },
  {
   "cell_type": "markdown",
   "id": "b4294c23",
   "metadata": {},
   "source": [
    "**5. What are the six comparison operators?**"
   ]
  },
  {
   "cell_type": "markdown",
   "id": "5f478e94",
   "metadata": {},
   "source": [
    "ANSWER:\n",
    "\n",
    "Comparison or relational operators are:\n",
    "\n",
    "**>** - Greater than <br/>\n",
    "**<** - Lesser than<br/>\n",
    "**==** - Equal to<br/>\n",
    "**!=** - Not equal to<br/>\n",
    "**<=** - Lesser than or equal to<br/>\n",
    "**>=** - Greater than or equal to<br/>"
   ]
  },
  {
   "cell_type": "markdown",
   "id": "7f72c908",
   "metadata": {},
   "source": [
    "**6. How do you tell the difference between the equal to and assignment operators?Describe a condition and when you would use one.**"
   ]
  },
  {
   "cell_type": "markdown",
   "id": "fe109d53",
   "metadata": {},
   "source": [
    "ANSWER:\n",
    "\n",
    "Equal to (==) operator is a relational operator. This means that the operator is used to check the value/compare the value of two variables. This operator gives a boolean output. <br/>\n",
    "Assignment operator is used to assign a value to a variable.\n",
    "\n",
    "Eg:\n",
    "\n",
    "var = 3\n",
    "\n",
    "check if var is equal to 3: <br/>\n",
    "        - var == 3\n",
    "\n",
    "change var value to 4: <br/>\n",
    "        - var = 4"
   ]
  },
  {
   "cell_type": "markdown",
   "id": "ed07c6e5",
   "metadata": {},
   "source": [
    "**7. Identify the three blocks in this code:**"
   ]
  },
  {
   "cell_type": "code",
   "execution_count": 1,
   "id": "a25946df",
   "metadata": {},
   "outputs": [
    {
     "name": "stdout",
     "output_type": "stream",
     "text": [
      "ham\n",
      "spam\n",
      "spam\n"
     ]
    }
   ],
   "source": [
    "# ANSWER:\n",
    "\n",
    "spam = 0\n",
    "\n",
    "# code block 1\n",
    "if spam == 10:\n",
    "    print('eggs')\n",
    "\n",
    "# code block 2\n",
    "if spam > 5:\n",
    "    print('bacon')\n",
    "\n",
    "# code block 3    \n",
    "else:\n",
    "    print('ham')\n",
    "    print('spam')\n",
    "    print('spam')\n"
   ]
  },
  {
   "cell_type": "markdown",
   "id": "cf747857",
   "metadata": {},
   "source": [
    "**8. Write code that prints Hello if 1 is stored in spam, prints Howdy if 2 is stored in spam, and prints Greetings! if anything else is stored in spam.**"
   ]
  },
  {
   "cell_type": "code",
   "execution_count": 2,
   "id": "aff57be3",
   "metadata": {},
   "outputs": [
    {
     "name": "stdout",
     "output_type": "stream",
     "text": [
      "2\n",
      "Howdy\n"
     ]
    }
   ],
   "source": [
    "# ANSWER:\n",
    "\n",
    "spam = int(input())\n",
    "\n",
    "if spam == 1:\n",
    "    print('Hello')\n",
    "elif spam == 2:\n",
    "    print(\"Howdy\")\n",
    "else:\n",
    "    print(\"Greetings!\")"
   ]
  },
  {
   "cell_type": "markdown",
   "id": "66e99bf6",
   "metadata": {},
   "source": [
    "**9.If your programme is stuck in an endless loop, what keys you’ll press?**"
   ]
  },
  {
   "cell_type": "markdown",
   "id": "82adfe6c",
   "metadata": {},
   "source": [
    "ANSWER:\n",
    "\n",
    "If the loop is continously running, **STOP** button to **interrupt the kernel** must be clicked."
   ]
  },
  {
   "cell_type": "markdown",
   "id": "c6a8eeb8",
   "metadata": {},
   "source": [
    "**10. How can you tell the difference between break and continue?**\n"
   ]
  },
  {
   "cell_type": "markdown",
   "id": "0a2346df",
   "metadata": {},
   "source": [
    "ANSWER:\n",
    "    \n",
    "**Break** statement is used to abruptly stop the loop/iteration when the condition is met. Upon meeting this, the the program will exit the loop and interpret the next statement. <br/>\n",
    "**Continue** statement skips that particular iteration during which the condition is met but continue with the next iteration in the loop. It only skips particular iterations."
   ]
  },
  {
   "cell_type": "markdown",
   "id": "5aa23c37",
   "metadata": {},
   "source": [
    "**11. In a for loop, what is the difference between range(10), range(0, 10), and range(0, 10, 1)?**"
   ]
  },
  {
   "cell_type": "markdown",
   "id": "91a667c3",
   "metadata": {},
   "source": [
    "ANSWER:\n",
    "\n",
    "* range(10): In this case, the upper limit is 10. Here default arguments for initial value and step is considered, which is 0 and 1.\n",
    "* range(0,10) : In this case, Initial value and final value is defined. And step will be 0 (default argument)\n",
    "* range(0,10,1) : In this case, all 3 arguments are defined: initial, final and step value.\n",
    "\n",
    "The result of all three functions will be same."
   ]
  },
  {
   "cell_type": "markdown",
   "id": "5cde7518",
   "metadata": {},
   "source": [
    "**12. Write a short program that prints the numbers 1 to 10 using a for loop. Then write an equivalent program that prints the numbers 1 to 10 using a while loop.**"
   ]
  },
  {
   "cell_type": "code",
   "execution_count": 3,
   "id": "dbda8d3a",
   "metadata": {
    "scrolled": true
   },
   "outputs": [
    {
     "name": "stdout",
     "output_type": "stream",
     "text": [
      "Printing values using for loop: \n",
      "\n",
      "1\n",
      "2\n",
      "3\n",
      "4\n",
      "5\n",
      "6\n",
      "7\n",
      "8\n",
      "9\n",
      "10\n",
      "\n",
      "Printing values using while loop: \n",
      "\n",
      "0\n",
      "1\n",
      "2\n",
      "3\n",
      "4\n",
      "5\n",
      "6\n",
      "7\n",
      "8\n",
      "9\n",
      "10\n"
     ]
    }
   ],
   "source": [
    "# ANSWER:\n",
    "\n",
    "print('Printing values using for loop: \\n')\n",
    "for i in range (1,11):\n",
    "    print(i)\n",
    "\n",
    "print('\\nPrinting values using while loop: \\n')\n",
    "j = 0\n",
    "while j <=10:\n",
    "    print(j)\n",
    "    j += 1"
   ]
  },
  {
   "cell_type": "markdown",
   "id": "49cc70fc",
   "metadata": {},
   "source": [
    "**13. If you had a function named bacon() inside a module named spam, how would you call it after importing spam?**"
   ]
  },
  {
   "cell_type": "markdown",
   "id": "87c5aaa5",
   "metadata": {},
   "source": [
    "ANSWER:\n",
    "\n",
    "from spam import bacon"
   ]
  },
  {
   "cell_type": "markdown",
   "id": "1c2ad69d",
   "metadata": {},
   "source": [
    "***"
   ]
  }
 ],
 "metadata": {
  "kernelspec": {
   "display_name": "Python 3",
   "language": "python",
   "name": "python3"
  },
  "language_info": {
   "codemirror_mode": {
    "name": "ipython",
    "version": 3
   },
   "file_extension": ".py",
   "mimetype": "text/x-python",
   "name": "python",
   "nbconvert_exporter": "python",
   "pygments_lexer": "ipython3",
   "version": "3.8.8"
  }
 },
 "nbformat": 4,
 "nbformat_minor": 5
}
