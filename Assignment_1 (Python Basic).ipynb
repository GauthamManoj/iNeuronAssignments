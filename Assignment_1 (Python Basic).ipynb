{
 "cells": [
  {
   "cell_type": "markdown",
   "id": "c9e414ba",
   "metadata": {},
   "source": [
    "# ASSIGNMENT-1 (Python Basic)\n",
    "***"
   ]
  },
  {
   "cell_type": "markdown",
   "id": "a05279e1",
   "metadata": {},
   "source": [
    "**1. In the below elements which of them are values or an expression? eg:- values can be integer or string and expressions will be mathematical operators.**"
   ]
  },
  {
   "cell_type": "raw",
   "id": "e2db8c58",
   "metadata": {},
   "source": [
    "* = Expression"
   ]
  },
  {
   "cell_type": "raw",
   "id": "7aa631a5",
   "metadata": {},
   "source": [
    "'hello' = Value"
   ]
  },
  {
   "cell_type": "raw",
   "id": "7a0e2adc",
   "metadata": {},
   "source": [
    "-87.8 = Value"
   ]
  },
  {
   "cell_type": "raw",
   "id": "0b9c7cee",
   "metadata": {},
   "source": [
    "- = Expression"
   ]
  },
  {
   "cell_type": "raw",
   "id": "f6debbbb",
   "metadata": {},
   "source": [
    "/ = Expression"
   ]
  },
  {
   "cell_type": "raw",
   "id": "d7f48993",
   "metadata": {},
   "source": [
    "+ = Expression"
   ]
  },
  {
   "cell_type": "raw",
   "id": "b227375d",
   "metadata": {},
   "source": [
    "6 = Value"
   ]
  },
  {
   "cell_type": "markdown",
   "id": "4dfffb3b",
   "metadata": {},
   "source": [
    "**2. What is the difference between string and variable?**"
   ]
  },
  {
   "cell_type": "markdown",
   "id": "cb41ad60",
   "metadata": {},
   "source": [
    "#ANSWER:\n",
    "\n",
    "A variable takes an assigned value as input and helps in storing that data in the main memory. <br/>\n",
    "And string is a collection of characters (char datatype collection)"
   ]
  },
  {
   "cell_type": "markdown",
   "id": "e926d7ff",
   "metadata": {},
   "source": [
    "**3. Describe three different data types.**"
   ]
  },
  {
   "cell_type": "markdown",
   "id": "8a149d07",
   "metadata": {},
   "source": [
    "#ANSWER:\n",
    "\n",
    "3 Different Datatypes are\n",
    "* Numeric\n",
    "* Boolean\n",
    "* Char"
   ]
  },
  {
   "cell_type": "markdown",
   "id": "17ffbe06",
   "metadata": {},
   "source": [
    "**4. What is an expression made up of? What do all expressions do?**"
   ]
  },
  {
   "cell_type": "markdown",
   "id": "9fca7c5d",
   "metadata": {},
   "source": [
    "#ANSWER:\n",
    "\n",
    "Expression are used to manipulate numeric datatypes and get a result value. Expressions are of multiple types such as arithemetric, logical etc."
   ]
  },
  {
   "cell_type": "markdown",
   "id": "e88d62ef",
   "metadata": {},
   "source": [
    "**5. This assignment statements, like spam = 10. What is the difference between an expression and a statement?**"
   ]
  },
  {
   "cell_type": "markdown",
   "id": "c99af9c1",
   "metadata": {},
   "source": [
    "#ANSWER:\n",
    "\n",
    "Expressions are using operators on numeric datatype values/variables to manipulate the same and get result values. And statement is literally every codeline given to system by user."
   ]
  },
  {
   "cell_type": "markdown",
   "id": "0638c7cb",
   "metadata": {},
   "source": [
    "**6. After running the following code, what does the variable bacon contain?**<br/> \n",
    "bacon = 22<br/>\n",
    "bacon + 1\n"
   ]
  },
  {
   "cell_type": "code",
   "execution_count": 3,
   "id": "2b36243d",
   "metadata": {},
   "outputs": [
    {
     "data": {
      "text/plain": [
       "23"
      ]
     },
     "execution_count": 3,
     "metadata": {},
     "output_type": "execute_result"
    }
   ],
   "source": [
    "#ANSWER:\n",
    "\n",
    "bacon = 22\n",
    "bacon+1"
   ]
  },
  {
   "cell_type": "markdown",
   "id": "a51a77ab",
   "metadata": {},
   "source": [
    "**7. What should the values of the following two terms be?**<br/>\n",
    "'spam' + 'spamspam'<br/>\n",
    "'spam' * 3\n"
   ]
  },
  {
   "cell_type": "markdown",
   "id": "38d9b910",
   "metadata": {},
   "source": [
    "#ANSWER:\n",
    "\n",
    "'spamspamspam'"
   ]
  },
  {
   "cell_type": "markdown",
   "id": "af330b86",
   "metadata": {},
   "source": [
    "**8. Why is eggs a valid variable name while 100 is invalid?**"
   ]
  },
  {
   "cell_type": "markdown",
   "id": "c2d9aca6",
   "metadata": {},
   "source": [
    "#ANSWER:\n",
    "\n",
    "variable names cannot begin with integer or any numeric datatype. Variable name must begin with a character"
   ]
  },
  {
   "cell_type": "markdown",
   "id": "89184890",
   "metadata": {},
   "source": [
    "**9. What three functions can be used to get the integer, floating-point number, or string version of a value?**"
   ]
  },
  {
   "cell_type": "markdown",
   "id": "b07f3226",
   "metadata": {},
   "source": [
    "#ANSWER:\n",
    "\n",
    "variable = 1\n",
    "\n",
    "int(variable) <br/>\n",
    "float(variable)<br/>\n",
    "str(variable)"
   ]
  },
  {
   "cell_type": "markdown",
   "id": "a35026cd",
   "metadata": {},
   "source": [
    "**10. Why does this expression cause an error? How can you fix it?** <br/>\n",
    "'I have eaten ' + 99 + ' burritos.'\n"
   ]
  },
  {
   "cell_type": "code",
   "execution_count": 4,
   "id": "b4d6f9cd",
   "metadata": {},
   "outputs": [
    {
     "data": {
      "text/plain": [
       "'I have eaten 99 burritos'"
      ]
     },
     "execution_count": 4,
     "metadata": {},
     "output_type": "execute_result"
    }
   ],
   "source": [
    "#ANSWER:\n",
    "\n",
    "#The concatenated value is an integer and string can only be concatenated with string.\n",
    "# To fix this, the integer value must be converted into string datatype\n",
    "\n",
    "'I have eaten' + ' 99 ' + 'burritos'"
   ]
  }
 ],
 "metadata": {
  "kernelspec": {
   "display_name": "Python 3",
   "language": "python",
   "name": "python3"
  },
  "language_info": {
   "codemirror_mode": {
    "name": "ipython",
    "version": 3
   },
   "file_extension": ".py",
   "mimetype": "text/x-python",
   "name": "python",
   "nbconvert_exporter": "python",
   "pygments_lexer": "ipython3",
   "version": "3.8.8"
  }
 },
 "nbformat": 4,
 "nbformat_minor": 5
}
