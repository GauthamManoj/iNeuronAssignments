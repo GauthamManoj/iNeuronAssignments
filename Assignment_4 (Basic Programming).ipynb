{
 "cells": [
  {
   "cell_type": "markdown",
   "id": "5e52f000",
   "metadata": {},
   "source": [
    "# ASSIGNMENT_4 (Basic Programming)\n",
    "***"
   ]
  },
  {
   "cell_type": "markdown",
   "id": "f0396124",
   "metadata": {},
   "source": [
    "**1.Write a Python Program to Find the Factorial of a Number?**"
   ]
  },
  {
   "cell_type": "code",
   "execution_count": 1,
   "id": "8a6941f8",
   "metadata": {},
   "outputs": [
    {
     "data": {
      "text/plain": [
       "120"
      ]
     },
     "execution_count": 1,
     "metadata": {},
     "output_type": "execute_result"
    }
   ],
   "source": [
    "# ANSWER:\n",
    "\n",
    "# function to find factorial of a number\n",
    "\n",
    "def fact(num):\n",
    "    for i in range(num-1,0,-1):\n",
    "        num=num*i\n",
    "    return num\n",
    "\n",
    "fact(5)"
   ]
  },
  {
   "cell_type": "markdown",
   "id": "f7659145",
   "metadata": {},
   "source": [
    "**2.Write a Python Program to Display the multiplication Table?**"
   ]
  },
  {
   "cell_type": "code",
   "execution_count": 2,
   "id": "f62333a9",
   "metadata": {},
   "outputs": [
    {
     "name": "stdout",
     "output_type": "stream",
     "text": [
      "10\n",
      "20\n",
      "30\n",
      "40\n",
      "50\n",
      "60\n",
      "70\n",
      "80\n",
      "90\n",
      "100\n"
     ]
    }
   ],
   "source": [
    "# ANSWER:\n",
    "\n",
    "# enter the number for which multiplication table to be calculated and length of the table\n",
    "def mult_table(num,length):\n",
    "    for i in range(1,length+1):\n",
    "        yield(num*i)\n",
    "\n",
    "for i in mult_table(10,10):\n",
    "    print(i)"
   ]
  },
  {
   "cell_type": "markdown",
   "id": "7856ea9b",
   "metadata": {},
   "source": [
    "**3.Write a Python Program to Print the Fibonacci sequence?**"
   ]
  },
  {
   "cell_type": "code",
   "execution_count": 3,
   "id": "3340db9d",
   "metadata": {},
   "outputs": [
    {
     "name": "stdout",
     "output_type": "stream",
     "text": [
      "1\n",
      "1\n",
      "2\n",
      "3\n",
      "5\n",
      "8\n",
      "13\n",
      "21\n",
      "34\n",
      "55\n"
     ]
    }
   ],
   "source": [
    "# ANSWER:\n",
    "\n",
    "# function to generate fibonacci sequence\n",
    "\n",
    "def fib_seq(length):\n",
    "    a = 1\n",
    "    b = 1\n",
    "    for i in range(length):\n",
    "        yield a\n",
    "        a, b = b , a+b \n",
    "        \n",
    "for i in fib_seq(10):\n",
    "    print(i)"
   ]
  },
  {
   "cell_type": "markdown",
   "id": "4f350743",
   "metadata": {},
   "source": [
    "**4.Write a Python Program to Check Armstrong Number?**"
   ]
  },
  {
   "cell_type": "code",
   "execution_count": 4,
   "id": "ec643a16",
   "metadata": {},
   "outputs": [
    {
     "data": {
      "text/plain": [
       "'Armstrong Number'"
      ]
     },
     "execution_count": 4,
     "metadata": {},
     "output_type": "execute_result"
    }
   ],
   "source": [
    "# ANSWER:\n",
    "\n",
    "# creating a fucntion to check whether the number is armstrong number or not\n",
    "\n",
    "def arm_check(number):\n",
    "    n = len(str(number))\n",
    "    x = 0\n",
    "    for i in str(number):\n",
    "        x = x+ (int(i)**n)\n",
    "    \n",
    "    if x == number:\n",
    "        return('Armstrong Number')\n",
    "    else:\n",
    "        return ('Non-Armstrong Number')\n",
    "    \n",
    "arm_check(2)"
   ]
  },
  {
   "cell_type": "markdown",
   "id": "2defb481",
   "metadata": {},
   "source": [
    "**5.Write a Python Program to Find Armstrong Number in an Interval?**"
   ]
  },
  {
   "cell_type": "code",
   "execution_count": 5,
   "id": "c54e39ce",
   "metadata": {},
   "outputs": [
    {
     "name": "stdout",
     "output_type": "stream",
     "text": [
      "10000\n",
      "0\n",
      "1\n",
      "2\n",
      "3\n",
      "4\n",
      "5\n",
      "6\n",
      "7\n",
      "8\n",
      "9\n",
      "153\n",
      "370\n",
      "371\n",
      "407\n",
      "1634\n",
      "8208\n",
      "9474\n"
     ]
    }
   ],
   "source": [
    "# ANSWER:\n",
    "\n",
    "length = int(input())\n",
    "\n",
    "for i in range(length):\n",
    "    if arm_check(i) == 'Armstrong Number':\n",
    "        print(i)\n",
    "    else:\n",
    "        continue\n"
   ]
  },
  {
   "cell_type": "markdown",
   "id": "794d0b96",
   "metadata": {},
   "source": [
    "**6.Write a Python Program to Find the Sum of Natural Numbers?**"
   ]
  },
  {
   "cell_type": "code",
   "execution_count": 6,
   "id": "c8191cd6",
   "metadata": {},
   "outputs": [
    {
     "name": "stdout",
     "output_type": "stream",
     "text": [
      "10\n",
      "55.0\n"
     ]
    }
   ],
   "source": [
    "# ANSWER:\n",
    "\n",
    "# enter the number of first n natural numbers to be considered for sum\n",
    "\n",
    "n = int(input())\n",
    "\n",
    "print(n*(n+1)/2)"
   ]
  }
 ],
 "metadata": {
  "kernelspec": {
   "display_name": "Python 3",
   "language": "python",
   "name": "python3"
  },
  "language_info": {
   "codemirror_mode": {
    "name": "ipython",
    "version": 3
   },
   "file_extension": ".py",
   "mimetype": "text/x-python",
   "name": "python",
   "nbconvert_exporter": "python",
   "pygments_lexer": "ipython3",
   "version": "3.8.8"
  }
 },
 "nbformat": 4,
 "nbformat_minor": 5
}
