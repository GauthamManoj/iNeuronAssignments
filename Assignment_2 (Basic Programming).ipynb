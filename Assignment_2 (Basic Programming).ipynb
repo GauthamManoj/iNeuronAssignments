{
 "cells": [
  {
   "cell_type": "markdown",
   "id": "d1ccb49c",
   "metadata": {},
   "source": [
    "# ASSIGNMENT_2 (Basic Programming)\n",
    "***"
   ]
  },
  {
   "cell_type": "markdown",
   "id": "02e7f448",
   "metadata": {},
   "source": [
    "**1.Write a Python program to convert kilometers to miles?**"
   ]
  },
  {
   "cell_type": "code",
   "execution_count": 1,
   "id": "daae127b",
   "metadata": {},
   "outputs": [
    {
     "data": {
      "text/plain": [
       "6.213711923"
      ]
     },
     "execution_count": 1,
     "metadata": {},
     "output_type": "execute_result"
    }
   ],
   "source": [
    "# ANSWER:\n",
    "\n",
    "# creating a function to do conversion from KM to Miles\n",
    "\n",
    "def km_to_miles(x):\n",
    "    return(x*0.6213711923)\n",
    "\n",
    "# testing\n",
    "km_to_miles(10)"
   ]
  },
  {
   "cell_type": "markdown",
   "id": "41be835e",
   "metadata": {},
   "source": [
    "**2.Write a Python program to convert Celsius to Fahrenheit?**"
   ]
  },
  {
   "cell_type": "code",
   "execution_count": 2,
   "id": "be2fe4d4",
   "metadata": {},
   "outputs": [
    {
     "data": {
      "text/plain": [
       "50.0"
      ]
     },
     "execution_count": 2,
     "metadata": {},
     "output_type": "execute_result"
    }
   ],
   "source": [
    "# ANSWER:\n",
    "\n",
    "# creating a function to do conversion from KM to Miles\n",
    "\n",
    "def c_to_f(x):\n",
    "    return(x*(9/5) + 32)\n",
    "\n",
    "# testing\n",
    "c_to_f(10)"
   ]
  },
  {
   "cell_type": "markdown",
   "id": "f1c79a95",
   "metadata": {},
   "source": [
    "**3.Write a Python program to display calendar?**"
   ]
  },
  {
   "cell_type": "code",
   "execution_count": 3,
   "id": "619e2be8",
   "metadata": {},
   "outputs": [
    {
     "name": "stdout",
     "output_type": "stream",
     "text": [
      "     April 2022\n",
      "Mo Tu We Th Fr Sa Su\n",
      "             1  2  3\n",
      " 4  5  6  7  8  9 10\n",
      "11 12 13 14 15 16 17\n",
      "18 19 20 21 22 23 24\n",
      "25 26 27 28 29 30\n",
      "\n"
     ]
    }
   ],
   "source": [
    "# ANSWER:\n",
    "\n",
    "import calendar\n",
    "\n",
    "year = 2022\n",
    "month = 4\n",
    "\n",
    "print(calendar.month(year,month))"
   ]
  },
  {
   "cell_type": "markdown",
   "id": "c5557858",
   "metadata": {},
   "source": [
    "**4.Write a Python program to solve quadratic equation?**"
   ]
  },
  {
   "cell_type": "code",
   "execution_count": 9,
   "id": "39471e42",
   "metadata": {},
   "outputs": [
    {
     "data": {
      "text/plain": [
       "(-4.0, -4.0)"
      ]
     },
     "execution_count": 9,
     "metadata": {},
     "output_type": "execute_result"
    }
   ],
   "source": [
    "# ANSWER:\n",
    "\n",
    "# creating a function to solve quadratic equations\n",
    "# enter coefficients of equation to find the roots of equation ax2 + bx + c ||| a,b,c are coefficients\n",
    "def quad_sol(a,b,c):\n",
    "    disc = (b**2) - (4*a*c)\n",
    "    root1 = (-b+ (disc**0.5))/(2*a)\n",
    "    root2 = (-b- (disc**0.5))/(2*a)\n",
    "    return(root1, root2)\n",
    "\n",
    "# solution for quadratic equation 1x^2 + 8x + 16\n",
    "\n",
    "quad_sol(1,8,16)"
   ]
  },
  {
   "cell_type": "markdown",
   "id": "41818456",
   "metadata": {},
   "source": [
    "**5.Write a Python program to swap two variables without temp variable?**"
   ]
  },
  {
   "cell_type": "code",
   "execution_count": 10,
   "id": "5b944f59",
   "metadata": {},
   "outputs": [
    {
     "data": {
      "text/plain": [
       "(5, 10)"
      ]
     },
     "execution_count": 10,
     "metadata": {},
     "output_type": "execute_result"
    }
   ],
   "source": [
    "# ANSWER:\n",
    "\n",
    "# creating new swap function\n",
    "\n",
    "def new_swap(x,y):\n",
    "    x,y = y,x\n",
    "    return(x,y)\n",
    "\n",
    "a = 10\n",
    "b = 5\n",
    "new_swap(a,b)"
   ]
  }
 ],
 "metadata": {
  "kernelspec": {
   "display_name": "Python 3",
   "language": "python",
   "name": "python3"
  },
  "language_info": {
   "codemirror_mode": {
    "name": "ipython",
    "version": 3
   },
   "file_extension": ".py",
   "mimetype": "text/x-python",
   "name": "python",
   "nbconvert_exporter": "python",
   "pygments_lexer": "ipython3",
   "version": "3.8.8"
  }
 },
 "nbformat": 4,
 "nbformat_minor": 5
}
