{
 "cells": [
  {
   "cell_type": "markdown",
   "id": "e9ede058",
   "metadata": {},
   "source": [
    "# ASSIGNMENT_7 (Basic Programming)\n",
    "***"
   ]
  },
  {
   "cell_type": "markdown",
   "id": "696b9344",
   "metadata": {},
   "source": [
    "**1.Write a Python Program to find sum of array?**"
   ]
  },
  {
   "cell_type": "code",
   "execution_count": 1,
   "id": "51e0afac",
   "metadata": {},
   "outputs": [
    {
     "name": "stdout",
     "output_type": "stream",
     "text": [
      "Enter numbers in the array seperated by space: 1 2 3 4 5 6 7\n",
      "28\n"
     ]
    }
   ],
   "source": [
    "# ANSWER:\n",
    "\n",
    "l1 = list(map(int,input(\"Enter numbers in the array seperated by space: \").split()))\n",
    "sum = 0\n",
    "\n",
    "for i in l1:\n",
    "    sum = sum+i\n",
    "\n",
    "print(sum)"
   ]
  },
  {
   "cell_type": "markdown",
   "id": "1c3d2043",
   "metadata": {},
   "source": [
    "**2.Write a Python Program to find largest element in an array?**"
   ]
  },
  {
   "cell_type": "code",
   "execution_count": 2,
   "id": "95f2c619",
   "metadata": {},
   "outputs": [
    {
     "name": "stdout",
     "output_type": "stream",
     "text": [
      "Enter numbers in the array seperated by space: 1 2 3 4 5 6 7 8\n",
      "8\n"
     ]
    }
   ],
   "source": [
    "# ANSWER:\n",
    "\n",
    "l2 = list(map(int,input(\"Enter numbers in the array seperated by space: \").split()))\n",
    "\n",
    "largest = 0\n",
    "\n",
    "for i in l2:\n",
    "    if i > largest:\n",
    "        largest = i\n",
    "    else:\n",
    "        continue\n",
    "print(largest)"
   ]
  },
  {
   "cell_type": "markdown",
   "id": "8f84314b",
   "metadata": {},
   "source": [
    "**3.Write a Python Program for array rotation?**"
   ]
  },
  {
   "cell_type": "code",
   "execution_count": 3,
   "id": "7000fe64",
   "metadata": {},
   "outputs": [
    {
     "data": {
      "text/plain": [
       "7"
      ]
     },
     "execution_count": 3,
     "metadata": {},
     "output_type": "execute_result"
    }
   ],
   "source": [
    "l = [1,2,3,4,5,6,7]\n",
    "len(l)"
   ]
  },
  {
   "cell_type": "code",
   "execution_count": 4,
   "id": "372814e8",
   "metadata": {},
   "outputs": [
    {
     "name": "stdout",
     "output_type": "stream",
     "text": [
      "Enter numbers in the array seperated by space: 1 2 3 4 5 6 7 8 9\n",
      "Enter number/index by which the array to be rotated: 4\n"
     ]
    },
    {
     "data": {
      "text/plain": [
       "[5, 6, 7, 8, 9, 1, 2, 3, 4]"
      ]
     },
     "execution_count": 4,
     "metadata": {},
     "output_type": "execute_result"
    }
   ],
   "source": [
    "# ANSWER:\n",
    "\n",
    "l3 = list(map(int,input(\"Enter numbers in the array seperated by space: \").split()))\n",
    "num = int(input(\"Enter number/index by which the array to be rotated: \"))\n",
    "result = []\n",
    "# function for array rotation\n",
    "# number rotate the array by is passed as an argument\n",
    "ind = 0\n",
    "def rotate(arr, n):\n",
    "    for i in range(len(arr)):\n",
    "        \n",
    "        if n<= (len(arr)-1):\n",
    "            result.append(arr[n])\n",
    "            n = n+1\n",
    "            \n",
    "        elif n>(len(arr)-1):\n",
    "            n=0\n",
    "            result.append(arr[n])\n",
    "            n = n+1\n",
    "            \n",
    "    return result\n",
    "\n",
    "rotate(l3,num)"
   ]
  },
  {
   "cell_type": "markdown",
   "id": "634517bf",
   "metadata": {},
   "source": [
    "**4.Write a Python Program to Split the array and add the first part to the end?**"
   ]
  },
  {
   "cell_type": "code",
   "execution_count": 5,
   "id": "d103d0f3",
   "metadata": {},
   "outputs": [
    {
     "name": "stdout",
     "output_type": "stream",
     "text": [
      "Enter numbers in the array seperated by space: 1 2 3 4 5 6 7 8\n",
      "Enter index at which the array to be split (should be less than 8): 3\n"
     ]
    },
    {
     "data": {
      "text/plain": [
       "[4, 5, 6, 7, 8, 1, 2, 3]"
      ]
     },
     "execution_count": 5,
     "metadata": {},
     "output_type": "execute_result"
    }
   ],
   "source": [
    "# ANSWER:\n",
    "\n",
    "l4 = list(map(int,input(\"Enter numbers in the array seperated by space: \").split()))\n",
    "split = int(input(f\"Enter index at which the array to be split (should be less than {len(l4)}): \"))\n",
    "\n",
    "\n",
    "# defining function to split and append the list\n",
    "\n",
    "def split_append(arr,n):\n",
    "    temp1 = []\n",
    "    res = []\n",
    "    j = 0\n",
    "    for i in range(n):\n",
    "        temp1.append(arr[i])\n",
    "    for i in range(n,len(arr)):\n",
    "        res.append(l4[i])\n",
    "        j = j+1\n",
    "    res.extend(temp1)\n",
    "    return res\n",
    "\n",
    "split_append(l4, split)"
   ]
  },
  {
   "cell_type": "markdown",
   "id": "2f64de4f",
   "metadata": {},
   "source": [
    "**5.Write a Python Program to check if given array is Monotonic?**"
   ]
  },
  {
   "cell_type": "code",
   "execution_count": 7,
   "id": "766d90db",
   "metadata": {},
   "outputs": [
    {
     "name": "stdout",
     "output_type": "stream",
     "text": [
      "Enter numbers in the array seperated by space: 1 2 3 4 5 6 7\n",
      "Monotonically increasing\n"
     ]
    }
   ],
   "source": [
    "# ANSWER:\n",
    "\n",
    "def monotonic_inc_check(arr):\n",
    "    result = []\n",
    "    for i in range(len(arr)-1):\n",
    "        if arr[i] <= arr[i+1]:\n",
    "            result.append(1)\n",
    "        else:\n",
    "            break\n",
    "    if len(result) == len(arr)-1:\n",
    "        return 'Monotonically increasing'\n",
    "    else:\n",
    "        return 'Monotonically Not increasing'\n",
    "    \n",
    "def monotonic_dec_check(arr):\n",
    "    result = []\n",
    "    for i in range(len(arr)-1):\n",
    "        if arr[i] >= arr[i+1]:\n",
    "            result.append(1)\n",
    "        else:\n",
    "            break\n",
    "    if len(result) == len(arr)-1:\n",
    "        return 'Monotonically Decreasing'\n",
    "    else:\n",
    "        return 'Not Monotonic'\n",
    "    \n",
    "l5 = list(map(int,input(\"Enter numbers in the array seperated by space: \").split()))\n",
    "if monotonic_inc_check(l5) == 'Monotonically increasing':\n",
    "    print(monotonic_inc_check(l5))\n",
    "else:\n",
    "    print(monotonic_dec_check(l5))"
   ]
  }
 ],
 "metadata": {
  "kernelspec": {
   "display_name": "Python 3",
   "language": "python",
   "name": "python3"
  },
  "language_info": {
   "codemirror_mode": {
    "name": "ipython",
    "version": 3
   },
   "file_extension": ".py",
   "mimetype": "text/x-python",
   "name": "python",
   "nbconvert_exporter": "python",
   "pygments_lexer": "ipython3",
   "version": "3.8.8"
  }
 },
 "nbformat": 4,
 "nbformat_minor": 5
}
