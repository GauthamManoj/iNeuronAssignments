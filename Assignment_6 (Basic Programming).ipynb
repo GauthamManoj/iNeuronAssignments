{
 "cells": [
  {
   "cell_type": "markdown",
   "id": "f4338e6e",
   "metadata": {},
   "source": [
    "# ASSIGNMENT_6 (Basic Programming)\n",
    "***"
   ]
  },
  {
   "cell_type": "markdown",
   "id": "b59714fa",
   "metadata": {},
   "source": [
    "**1.Write a Python Program to Display Fibonacci Sequence Using Recursion?**"
   ]
  },
  {
   "cell_type": "code",
   "execution_count": 1,
   "id": "1a1451ec",
   "metadata": {},
   "outputs": [
    {
     "name": "stdout",
     "output_type": "stream",
     "text": [
      "Enter the number of fibonacci sequence to be generated:10\n",
      "1\n",
      "1\n",
      "2\n",
      "3\n",
      "5\n",
      "8\n",
      "13\n",
      "21\n",
      "34\n",
      "55\n"
     ]
    }
   ],
   "source": [
    "# ANSWER:\n",
    "\n",
    "# creating a recursive function to return fibonacci sequence of given length\n",
    "\n",
    "def fib_seq(length):\n",
    "    if length <= 1:\n",
    "        return length\n",
    "    else:\n",
    "        return fib_seq(length-1) + fib_seq(length-2)\n",
    "\n",
    "number = int(input(\"Enter the number of fibonacci sequence to be generated:\"))\n",
    "for i in range(number):\n",
    "    print(fib_seq(i+1))"
   ]
  },
  {
   "cell_type": "markdown",
   "id": "1200dea5",
   "metadata": {},
   "source": [
    "**2.Write a Python Program to Find Factorial of Number Using Recursion?**"
   ]
  },
  {
   "cell_type": "code",
   "execution_count": 2,
   "id": "c343488a",
   "metadata": {},
   "outputs": [
    {
     "name": "stdout",
     "output_type": "stream",
     "text": [
      "120\n"
     ]
    }
   ],
   "source": [
    "# ANSWER:\n",
    "\n",
    "def fact(n):\n",
    "    if n ==1:\n",
    "        return n\n",
    "    else:\n",
    "        return(n*fact(n-1))\n",
    "     \n",
    "print(fact(5))"
   ]
  },
  {
   "cell_type": "markdown",
   "id": "ad6c9814",
   "metadata": {},
   "source": [
    "**3.Write a Python Program to calculate your Body Mass Index?**"
   ]
  },
  {
   "cell_type": "code",
   "execution_count": 3,
   "id": "b737c69f",
   "metadata": {},
   "outputs": [
    {
     "name": "stdout",
     "output_type": "stream",
     "text": [
      "Enter Weight(kg) and Height(cm):90 182\n",
      "BMI is 27.17\n"
     ]
    }
   ],
   "source": [
    "# ANSWER:\n",
    "\n",
    "def bmi_calc(w,h):\n",
    "    return (w*100/(h*h))\n",
    "\n",
    "weight, height = map(int, input('Enter Weight(kg) and Height(cm):').split())\n",
    "print(f\"BMI is {round(bmi_calc(weight,height)*100,2)}\")"
   ]
  },
  {
   "cell_type": "markdown",
   "id": "408a4d98",
   "metadata": {},
   "source": [
    "**4.Write a Python Program to calculate the natural logarithm of any number?**    "
   ]
  },
  {
   "cell_type": "code",
   "execution_count": 4,
   "id": "d130681a",
   "metadata": {},
   "outputs": [
    {
     "name": "stdout",
     "output_type": "stream",
     "text": [
      "Enter the number:10\n",
      "2.302585092994046\n"
     ]
    }
   ],
   "source": [
    "# ANSWER:\n",
    "\n",
    "import math\n",
    "\n",
    "number = int(input(\"Enter the number:\"))\n",
    "print(math.log(number))"
   ]
  },
  {
   "cell_type": "markdown",
   "id": "23727750",
   "metadata": {},
   "source": [
    "**5.Write a Python Program for cube sum of first n natural numbers?**"
   ]
  },
  {
   "cell_type": "code",
   "execution_count": 5,
   "id": "9024fc55",
   "metadata": {},
   "outputs": [
    {
     "name": "stdout",
     "output_type": "stream",
     "text": [
      "Enter number upto which cube sum to be generated:10\n",
      "3025\n"
     ]
    }
   ],
   "source": [
    "# ANSWER:\n",
    "\n",
    "# creating function to return cube sum upto entered number:\n",
    "\n",
    "def cube_sum(n):\n",
    "    sum = 0\n",
    "    for i in range(1,n+1):\n",
    "        sum += i**3\n",
    "    return sum\n",
    "\n",
    "number = int(input(\"Enter number upto which cube sum to be generated:\"))\n",
    "print(cube_sum(number))"
   ]
  }
 ],
 "metadata": {
  "kernelspec": {
   "display_name": "Python 3",
   "language": "python",
   "name": "python3"
  },
  "language_info": {
   "codemirror_mode": {
    "name": "ipython",
    "version": 3
   },
   "file_extension": ".py",
   "mimetype": "text/x-python",
   "name": "python",
   "nbconvert_exporter": "python",
   "pygments_lexer": "ipython3",
   "version": "3.8.8"
  }
 },
 "nbformat": 4,
 "nbformat_minor": 5
}
